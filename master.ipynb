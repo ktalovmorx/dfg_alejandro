{
 "cells": [
  {
   "cell_type": "markdown",
   "metadata": {},
   "source": [
    "Sistema de Recomendación con KNN -> MovieLens"
   ]
  },
  {
   "cell_type": "markdown",
   "metadata": {},
   "source": [
    "**PAQUETES REQUERIDOS**"
   ]
  },
  {
   "cell_type": "code",
   "execution_count": null,
   "metadata": {},
   "outputs": [],
   "source": [
    "import pip\n",
    "pip.main(['install', 'tqdm'])"
   ]
  },
  {
   "cell_type": "code",
   "execution_count": 107,
   "metadata": {},
   "outputs": [],
   "source": [
    "import math\n",
    "import numpy as np\n",
    "import pandas as pd\n",
    "import seaborn as sns\n",
    "import matplotlib.pyplot as plt\n",
    "from sklearn.neighbors import NearestNeighbors\n",
    "from tqdm.notebook import tqdm"
   ]
  },
  {
   "cell_type": "markdown",
   "metadata": {},
   "source": [
    "**Implementación de Funciones de Similaridad**"
   ]
  },
  {
   "cell_type": "code",
   "execution_count": 108,
   "metadata": {},
   "outputs": [],
   "source": [
    "def msd_similarity(u:np.array, v:np.array, max_rating:int, min_rating:int) -> float:\n",
    "    \"\"\"\n",
    "    Calcula la similitud MSD (Diferencias Cuadráticas Medias) entre dos vectores.\n",
    "    \n",
    "    Parameters:\n",
    "        u: Primer vector (usuario o ítem).\n",
    "        v: Segundo vector (usuario o ítem).\n",
    "    \n",
    "    Returns:\n",
    "        float: La similitud MSD entre u y v o None si no se puede calcular.\n",
    "\n",
    "    \"\"\"\n",
    "    sum_r = 0 \n",
    "    count = 0\n",
    "    \n",
    "    for i in range(len(u)):\n",
    "        if u[i] != None and v[i] != None:\n",
    "            count += 1\n",
    "            sum_r += math.pow((u[i] - v[i])/(max_rating - min_rating), 2)\n",
    "            \n",
    "    if count > 0:\n",
    "        sim = 1-(sum_r/float(count))\n",
    "        return sim\n",
    "    else:\n",
    "        return None\n",
    "\n",
    "def cosine_similarity(u:np.array, v:np.array, max_rating:int, min_rating:int) -> float:\n",
    "    \"\"\"\n",
    "    Calcula la similitud del coseno entre dos vectores.\n",
    "    \n",
    "    Cosine_Similarity = u ⋅ v / |u||v|\n",
    "    \n",
    "    Parameters:\n",
    "        u: Primer vector.\n",
    "        v: Segundo vector.\n",
    "    \n",
    "    Returns:\n",
    "        float: La similitud del coseno o None si no se puede calcular.\n",
    "\n",
    "    \"\"\"\n",
    "    numerador = 0\n",
    "    denominador_u = 0\n",
    "    denominador_v = 0\n",
    "    \n",
    "    count = 0\n",
    "    \n",
    "    for i in range(len(u)):\n",
    "        if u[i] != None and v[i] != None:\n",
    "            numerador += u[i] * v[i]\n",
    "            denominador_u += math.pow(u[i], 2)\n",
    "            denominador_v += math.pow(v[i], 2)\n",
    "            count += 1\n",
    "    if count > 0 and denominador_u != 0 and denominador_v != 0:\n",
    "        cos = numerador / (math.sqrt(denominador_u) * math.sqrt(denominador_v))\n",
    "        return cos\n",
    "    else:\n",
    "        return None\n",
    "    \n",
    "def correlation_similarity(u:np.array, v:np.array, max_rating:int, min_rating:int) -> float:\n",
    "    \n",
    "    \"\"\"\n",
    "    Calcula la correlación de Pearson entre dos vectores.\n",
    "    \n",
    "    Correlation_Similarity = cov(u, v) / (σ_u * σ_v)\n",
    "    \n",
    "    Parameters:\n",
    "        u: Primer vector.\n",
    "        v: Segundo vector.\n",
    "    \n",
    "    Returns:\n",
    "        float: La correlación de Pearson o None si no se puede calcular.\n",
    "    \"\"\"\n",
    "\n",
    "    # -- Convertir listas a numpy arrays, reemplazando None por 0\n",
    "    u = np.array(u, dtype=float)\n",
    "    v = np.array(v, dtype=float)\n",
    "\n",
    "    # -- Reemplazar None (o NaN) por 0\n",
    "    u[np.isnan(u)] = 0\n",
    "    v[np.isnan(v)] = 0\n",
    "\n",
    "    # -- Filtrar los índices donde ambos vectores tienen valores no cero\n",
    "    mask = (u != 0) & (v != 0)\n",
    "    \n",
    "    if np.sum(mask) == 0:\n",
    "        return None  # No hay valores en común para calcular la correlación\n",
    "\n",
    "    u_filtered = u[mask]\n",
    "    v_filtered = v[mask]\n",
    "\n",
    "    # -- Calcular la media de los vectores\n",
    "    u_mean = np.mean(u_filtered)\n",
    "    v_mean = np.mean(v_filtered)\n",
    "\n",
    "    # -- Calcular la covarianza\n",
    "    covariance = np.sum((u_filtered - u_mean) * (v_filtered - v_mean))\n",
    "\n",
    "    # -- Calcular las desviaciones estándar\n",
    "    std_u = np.std(u_filtered, ddof=0)\n",
    "    std_v = np.std(v_filtered, ddof=0)\n",
    "\n",
    "    # Si alguna desvicacion estandar es 0 retornamos None\n",
    "    if std_u > 0 and std_v > 0:\n",
    "        return covariance / (std_u * std_v)\n",
    "    else:\n",
    "        return None\n",
    "    \n",
    "def jmsd_similarity(u:np.array, v:np.array, max_rating:int, min_rating:int) -> float:\n",
    "    \"\"\"\n",
    "    Calcula la similitud de Jensen-Shannon entre dos vectores.\n",
    "    \n",
    "    La similitud de Jensen-Shannon se define como:\n",
    "    JMSD(u, v) = 1 - D_JS(u, v)\n",
    "    \n",
    "    Donde D_JS(u, v) es la distancia de Jensen-Shannon entre u y v.\n",
    "\n",
    "    Parameters:\n",
    "        u: Primer vector.\n",
    "        v: Segundo vector.\n",
    "    \n",
    "    Returns:\n",
    "        float: La similitud de Jensen-Shannon o None si no se puede calcular.\n",
    "    \"\"\"\n",
    "\n",
    "    # Convertir listas a numpy arrays\n",
    "    u = np.array(u, dtype=float)\n",
    "    v = np.array(v, dtype=float)\n",
    "\n",
    "    # Reemplazar None (o NaN) por 0\n",
    "    u[np.isnan(u)] = 0\n",
    "    v[np.isnan(v)] = 0\n",
    "\n",
    "    # Normalizar los vectores para que sumen 1 (convertir a distribuciones de probabilidad)\n",
    "    u_sum = np.sum(u)\n",
    "    v_sum = np.sum(v)\n",
    "\n",
    "    if u_sum == 0 or v_sum == 0:\n",
    "        return None  # No se puede calcular la similitud si uno de los vectores es cero\n",
    "\n",
    "    # -- Distribución de u\n",
    "    p = u / u_sum\n",
    "    # -- Distribución de v\n",
    "    q = v / v_sum\n",
    "\n",
    "    # Calcular la mezcla de las dos distribuciones\n",
    "    m = 0.5 * (p + q)\n",
    "\n",
    "    # Calcular la divergencia de Kullback-Leibler\n",
    "    def kl_divergence(p, q):\n",
    "        return np.sum(np.where(p != 0, p * np.log(p / q), 0))\n",
    "\n",
    "    # Calcular la distancia de Jensen-Shannon\n",
    "    d_js = 0.5 * kl_divergence(p, m) + 0.5 * kl_divergence(q, m)\n",
    "\n",
    "    # Calcular la similitud de Jensen-Shannon\n",
    "    similarity = 1 - d_js\n",
    "\n",
    "    return similarity"
   ]
  },
  {
   "cell_type": "markdown",
   "metadata": {},
   "source": [
    "**Cálculo de similaridades**"
   ]
  },
  {
   "cell_type": "code",
   "execution_count": 109,
   "metadata": {},
   "outputs": [],
   "source": [
    "def calculate_similarities(ratings_matrix:np.array, similarity_metric:object, num_users:int, max_rating:int, min_rating:int) -> list:\n",
    "    \"\"\"\n",
    "    Cálculo de similaridades\n",
    "    \"\"\"\n",
    "\n",
    "    # Creamos una matriz con valores de similaridad a -1\n",
    "    similarities = [[float('-inf') for _ in range(num_users)] for _ in range(num_users)]\n",
    "    \n",
    "    # Recorremos la matriz por usuario\n",
    "    for i, u in enumerate(tqdm(ratings_matrix, leave=False)):\n",
    "        for j, v in enumerate(ratings_matrix):\n",
    "            if j != i: # No calculamos la similaridad para un mismo usuario\n",
    "                similarities[i][j] = similarity_metric(u, v, max_rating=max_rating, min_rating=min_rating)\n",
    "        \n",
    "    return similarities\n",
    "\n",
    "def rating_average(ratings) -> float:\n",
    "    \n",
    "    acc = 0\n",
    "    count = 0\n",
    "    for id_item in range(len(ratings)):\n",
    "        if ratings[id_item] != None:\n",
    "            acc += ratings[id_item]\n",
    "            count += 1\n",
    "    return acc / count\n"
   ]
  },
  {
   "cell_type": "markdown",
   "metadata": {},
   "source": [
    "**Cálculo de K-Vecinos**"
   ]
  },
  {
   "cell_type": "code",
   "execution_count": 110,
   "metadata": {},
   "outputs": [],
   "source": [
    "def calculate_neighbors(similarities_matrix, k_neighbors, num_users):\n",
    "    \n",
    "    neighbors = [None for _ in range(num_users)]\n",
    "    \n",
    "    for index, similarities in enumerate(tqdm(similarities_matrix, leave=False)):\n",
    "        i_neighbors = [i[0] for i in sorted(enumerate(similarities), \n",
    "                                            key=lambda x:float('-inf') if x[1] is None else x[1], \n",
    "                                            reverse=True)]\n",
    "        neighbors[index] = i_neighbors[0:k_neighbors]\n",
    "\n",
    "    return neighbors"
   ]
  },
  {
   "cell_type": "markdown",
   "metadata": {},
   "source": [
    "**Cálculo de Predicciones**"
   ]
  },
  {
   "cell_type": "code",
   "execution_count": 111,
   "metadata": {},
   "outputs": [],
   "source": [
    "def get_mae(ratings_matrix:np.array, predictions_matrix:np.array):\n",
    "    \"\"\"\n",
    "    Calcula el Error Medio Absoluto (MAE) entre las calificaciones reales y las predicciones.\n",
    "    \n",
    "    Parameters:\n",
    "        ratings_matrix : Matriz de calificaciones reales de los usuarios.\n",
    "        predictions_matrix : Matriz de predicciones de calificaciones.\n",
    "    \n",
    "    Returns:\n",
    "        float: El MAE promedio de todos los usuarios.\n",
    "    \"\"\"\n",
    "    mae_users = []\n",
    "\n",
    "    for user_ratings, user_predictions in zip(ratings_matrix, predictions_matrix):\n",
    "        abs_errors = []\n",
    "        \n",
    "        for real, predicted in zip(user_ratings, user_predictions):\n",
    "            if real is not None and not np.isnan(real):\n",
    "                abs_errors.append(abs(real - predicted))\n",
    "\n",
    "        if abs_errors:\n",
    "            mae_users.append(np.mean(abs_errors))\n",
    "        else:\n",
    "            mae_users.append(None)\n",
    "\n",
    "    # Convertir la lista a numpy array y calcular el MAE ignorando None/NaN\n",
    "    return np.nanmean(np.array(mae_users, dtype=np.float64), axis=0)\n",
    "\n",
    "def calculate_deviation_from_mean_prediction(ratings_matrix:np.array, neighbors:list, num_items:int, num_users:int):\n",
    "    \n",
    "    # Creamos una matriz para el cálculo de predicciones\n",
    "    predictions = [[None for _ in range(num_items)] for _ in range(num_users)]\n",
    "    \n",
    "    # Calculamos la media de los votos de los usuarios\n",
    "    avg_user_ratings = [rating_average(user) for user in ratings_matrix]\n",
    "    \n",
    "    # Recorremos la matriz de votos\n",
    "    for i, u in enumerate(tqdm(ratings_matrix, leave=False)):\n",
    "        for j, v in enumerate(ratings_matrix[0]):\n",
    "            numerador = 0 \n",
    "            denominador = 0\n",
    "            for neighbor in neighbors[i]:\n",
    "                if ratings_matrix[neighbor][j] != None:\n",
    "                    numerador += ratings_matrix[neighbor][j] - avg_user_ratings[neighbor]\n",
    "                    denominador += 1\n",
    "                    \n",
    "            predictions[i][j] = (avg_user_ratings[i] if denominador == 0 \n",
    "                                 else avg_user_ratings[i] + (numerador/denominador))\n",
    "            \n",
    "            # Ajustamos los votos inferiores a 1 y superiores a 5\n",
    "            if predictions[i][j] < 1:\n",
    "                predictions[i][j] = 1\n",
    "            if predictions[i][j] > 5:\n",
    "                predictions[i][j] = 5\n",
    "            \n",
    "    return predictions"
   ]
  },
  {
   "cell_type": "markdown",
   "metadata": {},
   "source": [
    "**ANALISIS EXPLORATORIO (EDA)**\n",
    "\n",
    "Primero hacemos una exploración descriptiva de nuestros datos."
   ]
  },
  {
   "cell_type": "markdown",
   "metadata": {},
   "source": [
    "**CARGA DE DATOS**"
   ]
  },
  {
   "cell_type": "code",
   "execution_count": 112,
   "metadata": {},
   "outputs": [],
   "source": [
    "def read_ratings_matrix(file:str, num_items:int, num_users:int) -> list:\n",
    "    \"\"\"\n",
    "    Data la ruta donde se encuentra un fichero con la estructura [ID_USER::ID_MOVIE::RATING]\n",
    "    crea una matriz de interacción usuario-artículo. \n",
    "    Esta matriz representa las valoraciones que los usuarios han dado a los artículos,\n",
    "    donde las filas representan a los usuarios y las columnas a los artículos.\n",
    "    \n",
    "    Un valor de 0 indica que el usuario no ha valorado el artículo.\n",
    "    \"\"\"\n",
    "\n",
    "    # -- Creamos una lista vacia de NUM_ITEMS elementos por cada usuario \n",
    "    RATINGS = [[None for _ in range(num_items)] for _ in range(num_users)] \n",
    "\n",
    "    # -- Abre el archivo indicado y lee cada línea separando el contenido de estas por el caracter ::\n",
    "    # -- que hace referencia a la estructura ID_USER::ID_MOVIE::RATING\n",
    "    fx = open(file, 'r')\n",
    "    while True:\n",
    "        line = fx.readline()\n",
    "        if not line:\n",
    "            break\n",
    "        else:\n",
    "            l = line.strip()\n",
    "            l = l.split('::')\n",
    "            user_id, movie_id, rating = l\n",
    "\n",
    "            # -- Completar el espacio correspondiente a esta línea en la lista de ratings\n",
    "            RATINGS[int(user_id)][int(movie_id)] = int(rating)\n",
    "\n",
    "    # -- Convierte los valores nulos en 0(cero)\n",
    "    for index in range(len(RATINGS)):\n",
    "        data = RATINGS[index]\n",
    "        RATINGS[index] = [0 if x is None else x for x in data]\n",
    "\n",
    "    return RATINGS"
   ]
  },
  {
   "cell_type": "code",
   "execution_count": 113,
   "metadata": {},
   "outputs": [],
   "source": [
    "# Número de usuarios e items\n",
    "NUM_USERS = 943\n",
    "NUM_ITEMS = 1682\n",
    "\n",
    "# Notas máximas y mínimas dadas en la matriz de votos\n",
    "MIN_RATING = 1\n",
    "MAX_RATING = 5\n",
    "\n",
    "# Ruta del los datasets de entrenamiento y test\n",
    "TRAIN_RATINGS_FILE = 'movielens_100k_training.txt'\n",
    "TEST_RATINGS_FILE = 'movielens_100k_test.txt'\n",
    "\n",
    "# Lectura de los Datasets de Entrenamiento y Test\n",
    "train_ratings = np.array(read_ratings_matrix(file=TRAIN_RATINGS_FILE, num_items=NUM_ITEMS, num_users=NUM_USERS))\n",
    "test_ratings = np.array(read_ratings_matrix(file=TEST_RATINGS_FILE, num_items=NUM_ITEMS, num_users=NUM_USERS))"
   ]
  },
  {
   "cell_type": "markdown",
   "metadata": {},
   "source": [
    "**Normalizar la matriz**"
   ]
  },
  {
   "cell_type": "code",
   "execution_count": 114,
   "metadata": {},
   "outputs": [],
   "source": [
    "rating_normalized_train_matrix = train_ratings\n",
    "#mean_user_rating_train = np.mean(train_ratings, axis=1).reshape(-1, 1)\n",
    "#rating_normalized_train_matrix = train_ratings - mean_user_rating_train\n",
    "\n",
    "rating_normalized_test_matrix = test_ratings\n",
    "#mean_user_rating_test = np.mean(test_ratings, axis=1).reshape(-1, 1)\n",
    "#rating_normalized_test_matrix = test_ratings - mean_user_rating_test "
   ]
  },
  {
   "cell_type": "code",
   "execution_count": 115,
   "metadata": {},
   "outputs": [
    {
     "name": "stdout",
     "output_type": "stream",
     "text": [
      "Cálculo de similaridad MSD\n"
     ]
    },
    {
     "data": {
      "application/vnd.jupyter.widget-view+json": {
       "model_id": "ea9ef302e90942b0b512bab33ee5e953",
       "version_major": 2,
       "version_minor": 0
      },
      "text/plain": [
       "  0%|          | 0/943 [00:00<?, ?it/s]"
      ]
     },
     "metadata": {},
     "output_type": "display_data"
    },
    {
     "name": "stdout",
     "output_type": "stream",
     "text": [
      "25-Vecinos\n"
     ]
    },
    {
     "data": {
      "application/vnd.jupyter.widget-view+json": {
       "model_id": "29b8fc9851c940549a70a92c74bb1c02",
       "version_major": 2,
       "version_minor": 0
      },
      "text/plain": [
       "  0%|          | 0/943 [00:00<?, ?it/s]"
      ]
     },
     "metadata": {},
     "output_type": "display_data"
    },
    {
     "data": {
      "application/vnd.jupyter.widget-view+json": {
       "model_id": "e75945ed4b854d0bbb1d02fd6be5ed27",
       "version_major": 2,
       "version_minor": 0
      },
      "text/plain": [
       "  0%|          | 0/943 [00:00<?, ?it/s]"
      ]
     },
     "metadata": {},
     "output_type": "display_data"
    },
    {
     "name": "stdout",
     "output_type": "stream",
     "text": [
      "50-Vecinos\n"
     ]
    },
    {
     "data": {
      "application/vnd.jupyter.widget-view+json": {
       "model_id": "7b27ade4188a46db949142255a287b14",
       "version_major": 2,
       "version_minor": 0
      },
      "text/plain": [
       "  0%|          | 0/943 [00:00<?, ?it/s]"
      ]
     },
     "metadata": {},
     "output_type": "display_data"
    },
    {
     "data": {
      "application/vnd.jupyter.widget-view+json": {
       "model_id": "022b648a39084f55bb1274ed0bcdf3d6",
       "version_major": 2,
       "version_minor": 0
      },
      "text/plain": [
       "  0%|          | 0/943 [00:00<?, ?it/s]"
      ]
     },
     "metadata": {},
     "output_type": "display_data"
    },
    {
     "name": "stdout",
     "output_type": "stream",
     "text": [
      "75-Vecinos\n"
     ]
    },
    {
     "data": {
      "application/vnd.jupyter.widget-view+json": {
       "model_id": "d827bd58adf54c33ab7f4c17206ffefc",
       "version_major": 2,
       "version_minor": 0
      },
      "text/plain": [
       "  0%|          | 0/943 [00:00<?, ?it/s]"
      ]
     },
     "metadata": {},
     "output_type": "display_data"
    },
    {
     "data": {
      "application/vnd.jupyter.widget-view+json": {
       "model_id": "af360bd4b89b4b779fd32ca1071e81a3",
       "version_major": 2,
       "version_minor": 0
      },
      "text/plain": [
       "  0%|          | 0/943 [00:00<?, ?it/s]"
      ]
     },
     "metadata": {},
     "output_type": "display_data"
    },
    {
     "name": "stdout",
     "output_type": "stream",
     "text": [
      "100-Vecinos\n"
     ]
    },
    {
     "data": {
      "application/vnd.jupyter.widget-view+json": {
       "model_id": "3837081dd2404fad9060d1d6c9c19231",
       "version_major": 2,
       "version_minor": 0
      },
      "text/plain": [
       "  0%|          | 0/943 [00:00<?, ?it/s]"
      ]
     },
     "metadata": {},
     "output_type": "display_data"
    },
    {
     "data": {
      "application/vnd.jupyter.widget-view+json": {
       "model_id": "ccd2ef706b004bd7bf600faeb7666fa5",
       "version_major": 2,
       "version_minor": 0
      },
      "text/plain": [
       "  0%|          | 0/943 [00:00<?, ?it/s]"
      ]
     },
     "metadata": {},
     "output_type": "display_data"
    },
    {
     "name": "stdout",
     "output_type": "stream",
     "text": [
      "150-Vecinos\n"
     ]
    },
    {
     "data": {
      "application/vnd.jupyter.widget-view+json": {
       "model_id": "949dc86c37a248619bd86aefc9fbb691",
       "version_major": 2,
       "version_minor": 0
      },
      "text/plain": [
       "  0%|          | 0/943 [00:00<?, ?it/s]"
      ]
     },
     "metadata": {},
     "output_type": "display_data"
    },
    {
     "data": {
      "application/vnd.jupyter.widget-view+json": {
       "model_id": "9e3ac53d3b554ed2b591e9322e14649e",
       "version_major": 2,
       "version_minor": 0
      },
      "text/plain": [
       "  0%|          | 0/943 [00:00<?, ?it/s]"
      ]
     },
     "metadata": {},
     "output_type": "display_data"
    },
    {
     "name": "stdout",
     "output_type": "stream",
     "text": [
      "200-Vecinos\n"
     ]
    },
    {
     "data": {
      "application/vnd.jupyter.widget-view+json": {
       "model_id": "89d17ac4aebd4d7c85f26966c441948a",
       "version_major": 2,
       "version_minor": 0
      },
      "text/plain": [
       "  0%|          | 0/943 [00:00<?, ?it/s]"
      ]
     },
     "metadata": {},
     "output_type": "display_data"
    },
    {
     "data": {
      "application/vnd.jupyter.widget-view+json": {
       "model_id": "00414d3b9d6b444eaa28e5c20fcbc3d8",
       "version_major": 2,
       "version_minor": 0
      },
      "text/plain": [
       "  0%|          | 0/943 [00:00<?, ?it/s]"
      ]
     },
     "metadata": {},
     "output_type": "display_data"
    },
    {
     "name": "stdout",
     "output_type": "stream",
     "text": [
      "250-Vecinos\n"
     ]
    },
    {
     "data": {
      "application/vnd.jupyter.widget-view+json": {
       "model_id": "e18887b9deda4a9595e1667bb5e82aac",
       "version_major": 2,
       "version_minor": 0
      },
      "text/plain": [
       "  0%|          | 0/943 [00:00<?, ?it/s]"
      ]
     },
     "metadata": {},
     "output_type": "display_data"
    },
    {
     "data": {
      "application/vnd.jupyter.widget-view+json": {
       "model_id": "a94b0268709945e4bec3ce475410809e",
       "version_major": 2,
       "version_minor": 0
      },
      "text/plain": [
       "  0%|          | 0/943 [00:00<?, ?it/s]"
      ]
     },
     "metadata": {},
     "output_type": "display_data"
    },
    {
     "name": "stdout",
     "output_type": "stream",
     "text": [
      "300-Vecinos\n"
     ]
    },
    {
     "data": {
      "application/vnd.jupyter.widget-view+json": {
       "model_id": "64e60b0adc7d43c8a7b8727aca1152fb",
       "version_major": 2,
       "version_minor": 0
      },
      "text/plain": [
       "  0%|          | 0/943 [00:00<?, ?it/s]"
      ]
     },
     "metadata": {},
     "output_type": "display_data"
    },
    {
     "data": {
      "application/vnd.jupyter.widget-view+json": {
       "model_id": "3161203aaaf146a38c30a90ea19dd19d",
       "version_major": 2,
       "version_minor": 0
      },
      "text/plain": [
       "  0%|          | 0/943 [00:00<?, ?it/s]"
      ]
     },
     "metadata": {},
     "output_type": "display_data"
    },
    {
     "name": "stdout",
     "output_type": "stream",
     "text": [
      "500-Vecinos\n"
     ]
    },
    {
     "data": {
      "application/vnd.jupyter.widget-view+json": {
       "model_id": "032c0b37ca284c018cfad7b5c18ffdbe",
       "version_major": 2,
       "version_minor": 0
      },
      "text/plain": [
       "  0%|          | 0/943 [00:00<?, ?it/s]"
      ]
     },
     "metadata": {},
     "output_type": "display_data"
    },
    {
     "data": {
      "application/vnd.jupyter.widget-view+json": {
       "model_id": "e7878740c6d2454ebd610de330a5f680",
       "version_major": 2,
       "version_minor": 0
      },
      "text/plain": [
       "  0%|          | 0/943 [00:00<?, ?it/s]"
      ]
     },
     "metadata": {},
     "output_type": "display_data"
    },
    {
     "name": "stdout",
     "output_type": "stream",
     "text": [
      "Cálculo de similaridad COSENO\n"
     ]
    },
    {
     "data": {
      "application/vnd.jupyter.widget-view+json": {
       "model_id": "8978da67483840748e9074a9792087e8",
       "version_major": 2,
       "version_minor": 0
      },
      "text/plain": [
       "  0%|          | 0/943 [00:00<?, ?it/s]"
      ]
     },
     "metadata": {},
     "output_type": "display_data"
    },
    {
     "name": "stdout",
     "output_type": "stream",
     "text": [
      "25-Vecinos\n"
     ]
    },
    {
     "data": {
      "application/vnd.jupyter.widget-view+json": {
       "model_id": "8463703983f24fad89b235a710b421c8",
       "version_major": 2,
       "version_minor": 0
      },
      "text/plain": [
       "  0%|          | 0/943 [00:00<?, ?it/s]"
      ]
     },
     "metadata": {},
     "output_type": "display_data"
    },
    {
     "data": {
      "application/vnd.jupyter.widget-view+json": {
       "model_id": "cd59fb961a204956a7c7b2b4459866e3",
       "version_major": 2,
       "version_minor": 0
      },
      "text/plain": [
       "  0%|          | 0/943 [00:00<?, ?it/s]"
      ]
     },
     "metadata": {},
     "output_type": "display_data"
    },
    {
     "name": "stdout",
     "output_type": "stream",
     "text": [
      "50-Vecinos\n"
     ]
    },
    {
     "data": {
      "application/vnd.jupyter.widget-view+json": {
       "model_id": "d72ea4dc951e4121af639f7bca5082b1",
       "version_major": 2,
       "version_minor": 0
      },
      "text/plain": [
       "  0%|          | 0/943 [00:00<?, ?it/s]"
      ]
     },
     "metadata": {},
     "output_type": "display_data"
    },
    {
     "data": {
      "application/vnd.jupyter.widget-view+json": {
       "model_id": "e3b4c3e641154395ac4a10f0f772a307",
       "version_major": 2,
       "version_minor": 0
      },
      "text/plain": [
       "  0%|          | 0/943 [00:00<?, ?it/s]"
      ]
     },
     "metadata": {},
     "output_type": "display_data"
    },
    {
     "name": "stdout",
     "output_type": "stream",
     "text": [
      "75-Vecinos\n"
     ]
    },
    {
     "data": {
      "application/vnd.jupyter.widget-view+json": {
       "model_id": "6f9c62defa5e416eba4af5cba622572d",
       "version_major": 2,
       "version_minor": 0
      },
      "text/plain": [
       "  0%|          | 0/943 [00:00<?, ?it/s]"
      ]
     },
     "metadata": {},
     "output_type": "display_data"
    },
    {
     "data": {
      "application/vnd.jupyter.widget-view+json": {
       "model_id": "1aaf322eafce40b9b5ae28dfa9ffceb3",
       "version_major": 2,
       "version_minor": 0
      },
      "text/plain": [
       "  0%|          | 0/943 [00:00<?, ?it/s]"
      ]
     },
     "metadata": {},
     "output_type": "display_data"
    },
    {
     "name": "stdout",
     "output_type": "stream",
     "text": [
      "100-Vecinos\n"
     ]
    },
    {
     "data": {
      "application/vnd.jupyter.widget-view+json": {
       "model_id": "dbb6597846234820adc74bde4dbcf066",
       "version_major": 2,
       "version_minor": 0
      },
      "text/plain": [
       "  0%|          | 0/943 [00:00<?, ?it/s]"
      ]
     },
     "metadata": {},
     "output_type": "display_data"
    },
    {
     "data": {
      "application/vnd.jupyter.widget-view+json": {
       "model_id": "c246552cbb1f47f8b825c3af22c45a7a",
       "version_major": 2,
       "version_minor": 0
      },
      "text/plain": [
       "  0%|          | 0/943 [00:00<?, ?it/s]"
      ]
     },
     "metadata": {},
     "output_type": "display_data"
    },
    {
     "name": "stdout",
     "output_type": "stream",
     "text": [
      "150-Vecinos\n"
     ]
    },
    {
     "data": {
      "application/vnd.jupyter.widget-view+json": {
       "model_id": "6f2e1c102e2d4b2db6d33608dfa3d3f9",
       "version_major": 2,
       "version_minor": 0
      },
      "text/plain": [
       "  0%|          | 0/943 [00:00<?, ?it/s]"
      ]
     },
     "metadata": {},
     "output_type": "display_data"
    },
    {
     "data": {
      "application/vnd.jupyter.widget-view+json": {
       "model_id": "043888af30cf484aa3745cb56d5889f7",
       "version_major": 2,
       "version_minor": 0
      },
      "text/plain": [
       "  0%|          | 0/943 [00:00<?, ?it/s]"
      ]
     },
     "metadata": {},
     "output_type": "display_data"
    },
    {
     "name": "stdout",
     "output_type": "stream",
     "text": [
      "200-Vecinos\n"
     ]
    },
    {
     "data": {
      "application/vnd.jupyter.widget-view+json": {
       "model_id": "a037a956ef87417b8886c3f4a3aceaa3",
       "version_major": 2,
       "version_minor": 0
      },
      "text/plain": [
       "  0%|          | 0/943 [00:00<?, ?it/s]"
      ]
     },
     "metadata": {},
     "output_type": "display_data"
    },
    {
     "data": {
      "application/vnd.jupyter.widget-view+json": {
       "model_id": "578b967c6be04ff2b02907b7b346b742",
       "version_major": 2,
       "version_minor": 0
      },
      "text/plain": [
       "  0%|          | 0/943 [00:00<?, ?it/s]"
      ]
     },
     "metadata": {},
     "output_type": "display_data"
    },
    {
     "name": "stdout",
     "output_type": "stream",
     "text": [
      "250-Vecinos\n"
     ]
    },
    {
     "data": {
      "application/vnd.jupyter.widget-view+json": {
       "model_id": "fd913e3b4c974f0e9262a1f510f32c06",
       "version_major": 2,
       "version_minor": 0
      },
      "text/plain": [
       "  0%|          | 0/943 [00:00<?, ?it/s]"
      ]
     },
     "metadata": {},
     "output_type": "display_data"
    },
    {
     "data": {
      "application/vnd.jupyter.widget-view+json": {
       "model_id": "56c062e58f9b4c16978b896a875a002e",
       "version_major": 2,
       "version_minor": 0
      },
      "text/plain": [
       "  0%|          | 0/943 [00:00<?, ?it/s]"
      ]
     },
     "metadata": {},
     "output_type": "display_data"
    },
    {
     "name": "stdout",
     "output_type": "stream",
     "text": [
      "300-Vecinos\n"
     ]
    },
    {
     "data": {
      "application/vnd.jupyter.widget-view+json": {
       "model_id": "7af1b390b83443dd944f8a31a5731175",
       "version_major": 2,
       "version_minor": 0
      },
      "text/plain": [
       "  0%|          | 0/943 [00:00<?, ?it/s]"
      ]
     },
     "metadata": {},
     "output_type": "display_data"
    },
    {
     "data": {
      "application/vnd.jupyter.widget-view+json": {
       "model_id": "8cdb6b6670954da1a74b9ba60b1768b2",
       "version_major": 2,
       "version_minor": 0
      },
      "text/plain": [
       "  0%|          | 0/943 [00:00<?, ?it/s]"
      ]
     },
     "metadata": {},
     "output_type": "display_data"
    },
    {
     "name": "stdout",
     "output_type": "stream",
     "text": [
      "500-Vecinos\n"
     ]
    },
    {
     "data": {
      "application/vnd.jupyter.widget-view+json": {
       "model_id": "577357d4e45f4b6787f0521baa61dfbb",
       "version_major": 2,
       "version_minor": 0
      },
      "text/plain": [
       "  0%|          | 0/943 [00:00<?, ?it/s]"
      ]
     },
     "metadata": {},
     "output_type": "display_data"
    },
    {
     "data": {
      "application/vnd.jupyter.widget-view+json": {
       "model_id": "52fceba981124bd68fb46aaa57917cfb",
       "version_major": 2,
       "version_minor": 0
      },
      "text/plain": [
       "  0%|          | 0/943 [00:00<?, ?it/s]"
      ]
     },
     "metadata": {},
     "output_type": "display_data"
    },
    {
     "name": "stdout",
     "output_type": "stream",
     "text": [
      "Cálculo de similaridad CORRELACION\n"
     ]
    },
    {
     "data": {
      "application/vnd.jupyter.widget-view+json": {
       "model_id": "df04a6cc9e6441e88a67d50e01f9e07e",
       "version_major": 2,
       "version_minor": 0
      },
      "text/plain": [
       "  0%|          | 0/943 [00:00<?, ?it/s]"
      ]
     },
     "metadata": {},
     "output_type": "display_data"
    },
    {
     "name": "stdout",
     "output_type": "stream",
     "text": [
      "25-Vecinos\n"
     ]
    },
    {
     "data": {
      "application/vnd.jupyter.widget-view+json": {
       "model_id": "7af492f67ee342c3a9d127ff0a4e7d0a",
       "version_major": 2,
       "version_minor": 0
      },
      "text/plain": [
       "  0%|          | 0/943 [00:00<?, ?it/s]"
      ]
     },
     "metadata": {},
     "output_type": "display_data"
    },
    {
     "data": {
      "application/vnd.jupyter.widget-view+json": {
       "model_id": "9ea7245ce86c464e91782ad31f321d76",
       "version_major": 2,
       "version_minor": 0
      },
      "text/plain": [
       "  0%|          | 0/943 [00:00<?, ?it/s]"
      ]
     },
     "metadata": {},
     "output_type": "display_data"
    },
    {
     "name": "stdout",
     "output_type": "stream",
     "text": [
      "50-Vecinos\n"
     ]
    },
    {
     "data": {
      "application/vnd.jupyter.widget-view+json": {
       "model_id": "356580634c2a481eb6b536dc6b8c5803",
       "version_major": 2,
       "version_minor": 0
      },
      "text/plain": [
       "  0%|          | 0/943 [00:00<?, ?it/s]"
      ]
     },
     "metadata": {},
     "output_type": "display_data"
    },
    {
     "data": {
      "application/vnd.jupyter.widget-view+json": {
       "model_id": "883ac8de975b46bb87348efce9678770",
       "version_major": 2,
       "version_minor": 0
      },
      "text/plain": [
       "  0%|          | 0/943 [00:00<?, ?it/s]"
      ]
     },
     "metadata": {},
     "output_type": "display_data"
    },
    {
     "name": "stdout",
     "output_type": "stream",
     "text": [
      "75-Vecinos\n"
     ]
    },
    {
     "data": {
      "application/vnd.jupyter.widget-view+json": {
       "model_id": "5453ea38149f4d3887ffbf7f6fb5f5b1",
       "version_major": 2,
       "version_minor": 0
      },
      "text/plain": [
       "  0%|          | 0/943 [00:00<?, ?it/s]"
      ]
     },
     "metadata": {},
     "output_type": "display_data"
    },
    {
     "data": {
      "application/vnd.jupyter.widget-view+json": {
       "model_id": "eed7c419b41146ab8fed7aea6d003846",
       "version_major": 2,
       "version_minor": 0
      },
      "text/plain": [
       "  0%|          | 0/943 [00:00<?, ?it/s]"
      ]
     },
     "metadata": {},
     "output_type": "display_data"
    },
    {
     "name": "stdout",
     "output_type": "stream",
     "text": [
      "100-Vecinos\n"
     ]
    },
    {
     "data": {
      "application/vnd.jupyter.widget-view+json": {
       "model_id": "a6118a94bf1a4eef9733ce08ae10a228",
       "version_major": 2,
       "version_minor": 0
      },
      "text/plain": [
       "  0%|          | 0/943 [00:00<?, ?it/s]"
      ]
     },
     "metadata": {},
     "output_type": "display_data"
    },
    {
     "data": {
      "application/vnd.jupyter.widget-view+json": {
       "model_id": "b4568183bfa149b189bbc79e12dce5ea",
       "version_major": 2,
       "version_minor": 0
      },
      "text/plain": [
       "  0%|          | 0/943 [00:00<?, ?it/s]"
      ]
     },
     "metadata": {},
     "output_type": "display_data"
    },
    {
     "name": "stdout",
     "output_type": "stream",
     "text": [
      "150-Vecinos\n"
     ]
    },
    {
     "data": {
      "application/vnd.jupyter.widget-view+json": {
       "model_id": "e3375c8bbea946d3bde550f1e9ac5a6e",
       "version_major": 2,
       "version_minor": 0
      },
      "text/plain": [
       "  0%|          | 0/943 [00:00<?, ?it/s]"
      ]
     },
     "metadata": {},
     "output_type": "display_data"
    },
    {
     "data": {
      "application/vnd.jupyter.widget-view+json": {
       "model_id": "0750cc68baf04e41aa2e4217d91e305f",
       "version_major": 2,
       "version_minor": 0
      },
      "text/plain": [
       "  0%|          | 0/943 [00:00<?, ?it/s]"
      ]
     },
     "metadata": {},
     "output_type": "display_data"
    },
    {
     "name": "stdout",
     "output_type": "stream",
     "text": [
      "200-Vecinos\n"
     ]
    },
    {
     "data": {
      "application/vnd.jupyter.widget-view+json": {
       "model_id": "9c8803e452304003ab8615c9b4cfe76c",
       "version_major": 2,
       "version_minor": 0
      },
      "text/plain": [
       "  0%|          | 0/943 [00:00<?, ?it/s]"
      ]
     },
     "metadata": {},
     "output_type": "display_data"
    },
    {
     "data": {
      "application/vnd.jupyter.widget-view+json": {
       "model_id": "307b911062bb4870afef84ada10b0779",
       "version_major": 2,
       "version_minor": 0
      },
      "text/plain": [
       "  0%|          | 0/943 [00:00<?, ?it/s]"
      ]
     },
     "metadata": {},
     "output_type": "display_data"
    },
    {
     "name": "stdout",
     "output_type": "stream",
     "text": [
      "250-Vecinos\n"
     ]
    },
    {
     "data": {
      "application/vnd.jupyter.widget-view+json": {
       "model_id": "6d3e6e5989654b7a97ed52da05680fce",
       "version_major": 2,
       "version_minor": 0
      },
      "text/plain": [
       "  0%|          | 0/943 [00:00<?, ?it/s]"
      ]
     },
     "metadata": {},
     "output_type": "display_data"
    },
    {
     "data": {
      "application/vnd.jupyter.widget-view+json": {
       "model_id": "56dcc024916a496ca463babbb501766b",
       "version_major": 2,
       "version_minor": 0
      },
      "text/plain": [
       "  0%|          | 0/943 [00:00<?, ?it/s]"
      ]
     },
     "metadata": {},
     "output_type": "display_data"
    },
    {
     "name": "stdout",
     "output_type": "stream",
     "text": [
      "300-Vecinos\n"
     ]
    },
    {
     "data": {
      "application/vnd.jupyter.widget-view+json": {
       "model_id": "a105aeda901f4accac08616448d40673",
       "version_major": 2,
       "version_minor": 0
      },
      "text/plain": [
       "  0%|          | 0/943 [00:00<?, ?it/s]"
      ]
     },
     "metadata": {},
     "output_type": "display_data"
    },
    {
     "data": {
      "application/vnd.jupyter.widget-view+json": {
       "model_id": "8ddb491d07ff4ddcaf428cd2ff71fefc",
       "version_major": 2,
       "version_minor": 0
      },
      "text/plain": [
       "  0%|          | 0/943 [00:00<?, ?it/s]"
      ]
     },
     "metadata": {},
     "output_type": "display_data"
    },
    {
     "name": "stdout",
     "output_type": "stream",
     "text": [
      "500-Vecinos\n"
     ]
    },
    {
     "data": {
      "application/vnd.jupyter.widget-view+json": {
       "model_id": "9551f06de0734e9587f235091880df4f",
       "version_major": 2,
       "version_minor": 0
      },
      "text/plain": [
       "  0%|          | 0/943 [00:00<?, ?it/s]"
      ]
     },
     "metadata": {},
     "output_type": "display_data"
    },
    {
     "data": {
      "application/vnd.jupyter.widget-view+json": {
       "model_id": "a07d786cea054e0983f91cd2f6a9cf60",
       "version_major": 2,
       "version_minor": 0
      },
      "text/plain": [
       "  0%|          | 0/943 [00:00<?, ?it/s]"
      ]
     },
     "metadata": {},
     "output_type": "display_data"
    },
    {
     "name": "stdout",
     "output_type": "stream",
     "text": [
      "Cálculo de similaridad JMSD\n"
     ]
    },
    {
     "data": {
      "application/vnd.jupyter.widget-view+json": {
       "model_id": "79481385e8d643fe92eb2a671682cdb9",
       "version_major": 2,
       "version_minor": 0
      },
      "text/plain": [
       "  0%|          | 0/943 [00:00<?, ?it/s]"
      ]
     },
     "metadata": {},
     "output_type": "display_data"
    },
    {
     "name": "stderr",
     "output_type": "stream",
     "text": [
      "C:\\Users\\ingjo\\AppData\\Local\\Temp\\ipykernel_13436\\4271891203.py:140: RuntimeWarning: invalid value encountered in divide\n",
      "  return np.sum(np.where(p != 0, p * np.log(p / q), 0))\n",
      "C:\\Users\\ingjo\\AppData\\Local\\Temp\\ipykernel_13436\\4271891203.py:140: RuntimeWarning: divide by zero encountered in log\n",
      "  return np.sum(np.where(p != 0, p * np.log(p / q), 0))\n",
      "C:\\Users\\ingjo\\AppData\\Local\\Temp\\ipykernel_13436\\4271891203.py:140: RuntimeWarning: invalid value encountered in multiply\n",
      "  return np.sum(np.where(p != 0, p * np.log(p / q), 0))\n"
     ]
    },
    {
     "name": "stdout",
     "output_type": "stream",
     "text": [
      "25-Vecinos\n"
     ]
    },
    {
     "data": {
      "application/vnd.jupyter.widget-view+json": {
       "model_id": "c72ca6761bd84cb5900868ccb5cfa457",
       "version_major": 2,
       "version_minor": 0
      },
      "text/plain": [
       "  0%|          | 0/943 [00:00<?, ?it/s]"
      ]
     },
     "metadata": {},
     "output_type": "display_data"
    },
    {
     "data": {
      "application/vnd.jupyter.widget-view+json": {
       "model_id": "bf3f49bc3e25478aa961570f0e891915",
       "version_major": 2,
       "version_minor": 0
      },
      "text/plain": [
       "  0%|          | 0/943 [00:00<?, ?it/s]"
      ]
     },
     "metadata": {},
     "output_type": "display_data"
    },
    {
     "name": "stdout",
     "output_type": "stream",
     "text": [
      "50-Vecinos\n"
     ]
    },
    {
     "data": {
      "application/vnd.jupyter.widget-view+json": {
       "model_id": "e75c7f9cc25f4a7eb6428a5062d16443",
       "version_major": 2,
       "version_minor": 0
      },
      "text/plain": [
       "  0%|          | 0/943 [00:00<?, ?it/s]"
      ]
     },
     "metadata": {},
     "output_type": "display_data"
    },
    {
     "data": {
      "application/vnd.jupyter.widget-view+json": {
       "model_id": "6115d7f73bf24f2c980a6524f0db9acd",
       "version_major": 2,
       "version_minor": 0
      },
      "text/plain": [
       "  0%|          | 0/943 [00:00<?, ?it/s]"
      ]
     },
     "metadata": {},
     "output_type": "display_data"
    },
    {
     "name": "stdout",
     "output_type": "stream",
     "text": [
      "75-Vecinos\n"
     ]
    },
    {
     "data": {
      "application/vnd.jupyter.widget-view+json": {
       "model_id": "6494e4ece7a24ee8a88859cbb0de9249",
       "version_major": 2,
       "version_minor": 0
      },
      "text/plain": [
       "  0%|          | 0/943 [00:00<?, ?it/s]"
      ]
     },
     "metadata": {},
     "output_type": "display_data"
    },
    {
     "data": {
      "application/vnd.jupyter.widget-view+json": {
       "model_id": "ad8c47e2237d403eae6936dc6d53460a",
       "version_major": 2,
       "version_minor": 0
      },
      "text/plain": [
       "  0%|          | 0/943 [00:00<?, ?it/s]"
      ]
     },
     "metadata": {},
     "output_type": "display_data"
    },
    {
     "name": "stdout",
     "output_type": "stream",
     "text": [
      "100-Vecinos\n"
     ]
    },
    {
     "data": {
      "application/vnd.jupyter.widget-view+json": {
       "model_id": "e41b2bf050d446b6b74b72ebe371021e",
       "version_major": 2,
       "version_minor": 0
      },
      "text/plain": [
       "  0%|          | 0/943 [00:00<?, ?it/s]"
      ]
     },
     "metadata": {},
     "output_type": "display_data"
    },
    {
     "data": {
      "application/vnd.jupyter.widget-view+json": {
       "model_id": "f54d101a132d43d3b11918e457bdae89",
       "version_major": 2,
       "version_minor": 0
      },
      "text/plain": [
       "  0%|          | 0/943 [00:00<?, ?it/s]"
      ]
     },
     "metadata": {},
     "output_type": "display_data"
    },
    {
     "name": "stdout",
     "output_type": "stream",
     "text": [
      "150-Vecinos\n"
     ]
    },
    {
     "data": {
      "application/vnd.jupyter.widget-view+json": {
       "model_id": "1ec76ea92ca64cb2ba80df24a501fea0",
       "version_major": 2,
       "version_minor": 0
      },
      "text/plain": [
       "  0%|          | 0/943 [00:00<?, ?it/s]"
      ]
     },
     "metadata": {},
     "output_type": "display_data"
    },
    {
     "data": {
      "application/vnd.jupyter.widget-view+json": {
       "model_id": "a481a51c22d045768ef30909fb11a868",
       "version_major": 2,
       "version_minor": 0
      },
      "text/plain": [
       "  0%|          | 0/943 [00:00<?, ?it/s]"
      ]
     },
     "metadata": {},
     "output_type": "display_data"
    },
    {
     "name": "stdout",
     "output_type": "stream",
     "text": [
      "200-Vecinos\n"
     ]
    },
    {
     "data": {
      "application/vnd.jupyter.widget-view+json": {
       "model_id": "f72725832924495889f1b76d1071c96d",
       "version_major": 2,
       "version_minor": 0
      },
      "text/plain": [
       "  0%|          | 0/943 [00:00<?, ?it/s]"
      ]
     },
     "metadata": {},
     "output_type": "display_data"
    },
    {
     "data": {
      "application/vnd.jupyter.widget-view+json": {
       "model_id": "1260dc0e7153414cac3c337fa51954f8",
       "version_major": 2,
       "version_minor": 0
      },
      "text/plain": [
       "  0%|          | 0/943 [00:00<?, ?it/s]"
      ]
     },
     "metadata": {},
     "output_type": "display_data"
    },
    {
     "name": "stdout",
     "output_type": "stream",
     "text": [
      "250-Vecinos\n"
     ]
    },
    {
     "data": {
      "application/vnd.jupyter.widget-view+json": {
       "model_id": "f340f4902fbf421ca55bd3235ff3a0e5",
       "version_major": 2,
       "version_minor": 0
      },
      "text/plain": [
       "  0%|          | 0/943 [00:00<?, ?it/s]"
      ]
     },
     "metadata": {},
     "output_type": "display_data"
    },
    {
     "data": {
      "application/vnd.jupyter.widget-view+json": {
       "model_id": "24b415f374c94eb598db9a83dfcec44c",
       "version_major": 2,
       "version_minor": 0
      },
      "text/plain": [
       "  0%|          | 0/943 [00:00<?, ?it/s]"
      ]
     },
     "metadata": {},
     "output_type": "display_data"
    },
    {
     "name": "stdout",
     "output_type": "stream",
     "text": [
      "300-Vecinos\n"
     ]
    },
    {
     "data": {
      "application/vnd.jupyter.widget-view+json": {
       "model_id": "54637bb451834fcaab6c24b4b2831a29",
       "version_major": 2,
       "version_minor": 0
      },
      "text/plain": [
       "  0%|          | 0/943 [00:00<?, ?it/s]"
      ]
     },
     "metadata": {},
     "output_type": "display_data"
    },
    {
     "data": {
      "application/vnd.jupyter.widget-view+json": {
       "model_id": "37ec9169b8ca47c49f2c5e6f8ff6979a",
       "version_major": 2,
       "version_minor": 0
      },
      "text/plain": [
       "  0%|          | 0/943 [00:00<?, ?it/s]"
      ]
     },
     "metadata": {},
     "output_type": "display_data"
    },
    {
     "name": "stdout",
     "output_type": "stream",
     "text": [
      "500-Vecinos\n"
     ]
    },
    {
     "data": {
      "application/vnd.jupyter.widget-view+json": {
       "model_id": "73b626247aac4dc2a9accde0b359ada8",
       "version_major": 2,
       "version_minor": 0
      },
      "text/plain": [
       "  0%|          | 0/943 [00:00<?, ?it/s]"
      ]
     },
     "metadata": {},
     "output_type": "display_data"
    },
    {
     "data": {
      "application/vnd.jupyter.widget-view+json": {
       "model_id": "598cda6aa85242dda17d1ba9fa84c24e",
       "version_major": 2,
       "version_minor": 0
      },
      "text/plain": [
       "  0%|          | 0/943 [00:00<?, ?it/s]"
      ]
     },
     "metadata": {},
     "output_type": "display_data"
    }
   ],
   "source": [
    "# Metricas, K vecinos y predicciones a probar\n",
    "SIMILARITIES_METRICS = [('MSD', msd_similarity), \n",
    "                        ('COSENO', cosine_similarity),\n",
    "                        ('CORRELACION', correlation_similarity),\n",
    "                        ('JMSD', jmsd_similarity)]\n",
    "K_NEIGHBORS = [25, 50, 75, 100, 150, 200, 250, 300, 500]\n",
    "\n",
    "# Guardo en una lista los experimentos realizados, siendo un experimento una lista con 4 posiciones:\n",
    "#     1.- Métrica de similaridad\n",
    "#     2.- Número de vecinos\n",
    "#     3.- MAE\n",
    "#     4.- Entrenamiento o Test\n",
    "experiments = []\n",
    "\n",
    "for metric in SIMILARITIES_METRICS:\n",
    "    print(f'Cálculo de similaridad {metric[0]}')\n",
    "    similarities_matrix = calculate_similarities(ratings_matrix=rating_normalized_train_matrix , similarity_metric=metric[1], num_users=NUM_USERS, max_rating=MAX_RATING, min_rating=MIN_RATING)\n",
    "\n",
    "    for k in K_NEIGHBORS:\n",
    "        print(f'{k}-Vecinos')\n",
    "        neighbors_matrix = calculate_neighbors(similarities_matrix=similarities_matrix, k_neighbors=k, num_users=NUM_USERS)\n",
    "        \n",
    "        # Calculamos las predicciones\n",
    "        predictions = calculate_deviation_from_mean_prediction(ratings_matrix=rating_normalized_train_matrix , neighbors=neighbors_matrix, num_items=NUM_ITEMS, num_users=NUM_USERS)\n",
    "        \n",
    "        # Calculamos el MAE para entrenamiento y test\n",
    "        mae_train = get_mae(ratings_matrix=rating_normalized_train_matrix, predictions_matrix=predictions)\n",
    "        mae_test = get_mae(ratings_matrix=rating_normalized_test_matrix, predictions_matrix=predictions)\n",
    "        \n",
    "        # Añadimos los experimentos a la lista\n",
    "        experiments.append([metric[0], k, mae_train, \"Train\"])\n",
    "        experiments.append([metric[0], k, mae_test, \"Test\"])"
   ]
  },
  {
   "cell_type": "code",
   "execution_count": 116,
   "metadata": {},
   "outputs": [],
   "source": [
    "# -- Pasamos los resultados de los experimentos a un DataFrame\n",
    "df_results = pd.DataFrame.from_records(experiments, columns=['Métrica', 'K-Vecinos', 'MAE', 'Train/Test'])"
   ]
  },
  {
   "cell_type": "code",
   "execution_count": 117,
   "metadata": {},
   "outputs": [
    {
     "data": {
      "text/html": [
       "<div>\n",
       "<style scoped>\n",
       "    .dataframe tbody tr th:only-of-type {\n",
       "        vertical-align: middle;\n",
       "    }\n",
       "\n",
       "    .dataframe tbody tr th {\n",
       "        vertical-align: top;\n",
       "    }\n",
       "\n",
       "    .dataframe thead tr th {\n",
       "        text-align: left;\n",
       "    }\n",
       "\n",
       "    .dataframe thead tr:last-of-type th {\n",
       "        text-align: right;\n",
       "    }\n",
       "</style>\n",
       "<table border=\"1\" class=\"dataframe\">\n",
       "  <thead>\n",
       "    <tr>\n",
       "      <th></th>\n",
       "      <th colspan=\"4\" halign=\"left\">MAE</th>\n",
       "    </tr>\n",
       "    <tr>\n",
       "      <th>Métrica</th>\n",
       "      <th>CORRELACION</th>\n",
       "      <th>COSENO</th>\n",
       "      <th>JMSD</th>\n",
       "      <th>MSD</th>\n",
       "    </tr>\n",
       "    <tr>\n",
       "      <th>K-Vecinos</th>\n",
       "      <th></th>\n",
       "      <th></th>\n",
       "      <th></th>\n",
       "      <th></th>\n",
       "    </tr>\n",
       "  </thead>\n",
       "  <tbody>\n",
       "    <tr>\n",
       "      <th>25</th>\n",
       "      <td>1.106578</td>\n",
       "      <td>1.076548</td>\n",
       "      <td>1.073987</td>\n",
       "      <td>1.074925</td>\n",
       "    </tr>\n",
       "    <tr>\n",
       "      <th>50</th>\n",
       "      <td>1.099522</td>\n",
       "      <td>1.078479</td>\n",
       "      <td>1.076172</td>\n",
       "      <td>1.077809</td>\n",
       "    </tr>\n",
       "    <tr>\n",
       "      <th>75</th>\n",
       "      <td>1.096266</td>\n",
       "      <td>1.079937</td>\n",
       "      <td>1.077978</td>\n",
       "      <td>1.079696</td>\n",
       "    </tr>\n",
       "    <tr>\n",
       "      <th>100</th>\n",
       "      <td>1.094301</td>\n",
       "      <td>1.081146</td>\n",
       "      <td>1.079465</td>\n",
       "      <td>1.081063</td>\n",
       "    </tr>\n",
       "    <tr>\n",
       "      <th>150</th>\n",
       "      <td>1.092056</td>\n",
       "      <td>1.082847</td>\n",
       "      <td>1.081640</td>\n",
       "      <td>1.083042</td>\n",
       "    </tr>\n",
       "    <tr>\n",
       "      <th>200</th>\n",
       "      <td>1.090925</td>\n",
       "      <td>1.084024</td>\n",
       "      <td>1.083214</td>\n",
       "      <td>1.084494</td>\n",
       "    </tr>\n",
       "    <tr>\n",
       "      <th>250</th>\n",
       "      <td>1.090366</td>\n",
       "      <td>1.084949</td>\n",
       "      <td>1.084410</td>\n",
       "      <td>1.085588</td>\n",
       "    </tr>\n",
       "    <tr>\n",
       "      <th>300</th>\n",
       "      <td>1.090217</td>\n",
       "      <td>1.085718</td>\n",
       "      <td>1.085346</td>\n",
       "      <td>1.086484</td>\n",
       "    </tr>\n",
       "    <tr>\n",
       "      <th>500</th>\n",
       "      <td>1.090857</td>\n",
       "      <td>1.088131</td>\n",
       "      <td>1.087991</td>\n",
       "      <td>1.088803</td>\n",
       "    </tr>\n",
       "  </tbody>\n",
       "</table>\n",
       "</div>"
      ],
      "text/plain": [
       "                  MAE                              \n",
       "Métrica   CORRELACION    COSENO      JMSD       MSD\n",
       "K-Vecinos                                          \n",
       "25           1.106578  1.076548  1.073987  1.074925\n",
       "50           1.099522  1.078479  1.076172  1.077809\n",
       "75           1.096266  1.079937  1.077978  1.079696\n",
       "100          1.094301  1.081146  1.079465  1.081063\n",
       "150          1.092056  1.082847  1.081640  1.083042\n",
       "200          1.090925  1.084024  1.083214  1.084494\n",
       "250          1.090366  1.084949  1.084410  1.085588\n",
       "300          1.090217  1.085718  1.085346  1.086484\n",
       "500          1.090857  1.088131  1.087991  1.088803"
      ]
     },
     "execution_count": 117,
     "metadata": {},
     "output_type": "execute_result"
    }
   ],
   "source": [
    "# -- Mostramos los resultados de los experimentos con los datos de entrenamiento\n",
    "pd.pivot_table(df_results[df_results['Train/Test']=='Train'], values=['MAE'], index=['K-Vecinos'], columns=['Métrica'])"
   ]
  },
  {
   "cell_type": "code",
   "execution_count": 119,
   "metadata": {},
   "outputs": [
    {
     "data": {
      "text/html": [
       "<div>\n",
       "<style scoped>\n",
       "    .dataframe tbody tr th:only-of-type {\n",
       "        vertical-align: middle;\n",
       "    }\n",
       "\n",
       "    .dataframe tbody tr th {\n",
       "        vertical-align: top;\n",
       "    }\n",
       "\n",
       "    .dataframe thead tr th {\n",
       "        text-align: left;\n",
       "    }\n",
       "\n",
       "    .dataframe thead tr:last-of-type th {\n",
       "        text-align: right;\n",
       "    }\n",
       "</style>\n",
       "<table border=\"1\" class=\"dataframe\">\n",
       "  <thead>\n",
       "    <tr>\n",
       "      <th></th>\n",
       "      <th colspan=\"4\" halign=\"left\">MAE</th>\n",
       "    </tr>\n",
       "    <tr>\n",
       "      <th>Métrica</th>\n",
       "      <th>CORRELACION</th>\n",
       "      <th>COSENO</th>\n",
       "      <th>JMSD</th>\n",
       "      <th>MSD</th>\n",
       "    </tr>\n",
       "    <tr>\n",
       "      <th>K-Vecinos</th>\n",
       "      <th></th>\n",
       "      <th></th>\n",
       "      <th></th>\n",
       "      <th></th>\n",
       "    </tr>\n",
       "  </thead>\n",
       "  <tbody>\n",
       "    <tr>\n",
       "      <th>25</th>\n",
       "      <td>1.113011</td>\n",
       "      <td>1.097948</td>\n",
       "      <td>1.092009</td>\n",
       "      <td>1.032207</td>\n",
       "    </tr>\n",
       "    <tr>\n",
       "      <th>50</th>\n",
       "      <td>1.094533</td>\n",
       "      <td>1.089192</td>\n",
       "      <td>1.084102</td>\n",
       "      <td>1.027576</td>\n",
       "    </tr>\n",
       "    <tr>\n",
       "      <th>75</th>\n",
       "      <td>1.083753</td>\n",
       "      <td>1.083129</td>\n",
       "      <td>1.078995</td>\n",
       "      <td>1.024954</td>\n",
       "    </tr>\n",
       "    <tr>\n",
       "      <th>100</th>\n",
       "      <td>1.075946</td>\n",
       "      <td>1.078674</td>\n",
       "      <td>1.075134</td>\n",
       "      <td>1.023093</td>\n",
       "    </tr>\n",
       "    <tr>\n",
       "      <th>150</th>\n",
       "      <td>1.064533</td>\n",
       "      <td>1.071331</td>\n",
       "      <td>1.068725</td>\n",
       "      <td>1.020427</td>\n",
       "    </tr>\n",
       "    <tr>\n",
       "      <th>200</th>\n",
       "      <td>1.056119</td>\n",
       "      <td>1.065330</td>\n",
       "      <td>1.063515</td>\n",
       "      <td>1.018454</td>\n",
       "    </tr>\n",
       "    <tr>\n",
       "      <th>250</th>\n",
       "      <td>1.049391</td>\n",
       "      <td>1.060063</td>\n",
       "      <td>1.058809</td>\n",
       "      <td>1.017011</td>\n",
       "    </tr>\n",
       "    <tr>\n",
       "      <th>300</th>\n",
       "      <td>1.044062</td>\n",
       "      <td>1.055238</td>\n",
       "      <td>1.054376</td>\n",
       "      <td>1.015943</td>\n",
       "    </tr>\n",
       "    <tr>\n",
       "      <th>500</th>\n",
       "      <td>1.030720</td>\n",
       "      <td>1.039235</td>\n",
       "      <td>1.038962</td>\n",
       "      <td>1.013701</td>\n",
       "    </tr>\n",
       "  </tbody>\n",
       "</table>\n",
       "</div>"
      ],
      "text/plain": [
       "                  MAE                              \n",
       "Métrica   CORRELACION    COSENO      JMSD       MSD\n",
       "K-Vecinos                                          \n",
       "25           1.113011  1.097948  1.092009  1.032207\n",
       "50           1.094533  1.089192  1.084102  1.027576\n",
       "75           1.083753  1.083129  1.078995  1.024954\n",
       "100          1.075946  1.078674  1.075134  1.023093\n",
       "150          1.064533  1.071331  1.068725  1.020427\n",
       "200          1.056119  1.065330  1.063515  1.018454\n",
       "250          1.049391  1.060063  1.058809  1.017011\n",
       "300          1.044062  1.055238  1.054376  1.015943\n",
       "500          1.030720  1.039235  1.038962  1.013701"
      ]
     },
     "execution_count": 119,
     "metadata": {},
     "output_type": "execute_result"
    }
   ],
   "source": [
    "# -- Muestra los resultados de los experimentos con los datos de test\n",
    "pd.pivot_table(df_results[df_results['Train/Test']=='Test'], values=['MAE'], index=['K-Vecinos'], columns=['Métrica'])"
   ]
  },
  {
   "cell_type": "markdown",
   "metadata": {},
   "source": [
    "**Graficar resultados**"
   ]
  },
  {
   "cell_type": "code",
   "execution_count": 120,
   "metadata": {},
   "outputs": [
    {
     "name": "stderr",
     "output_type": "stream",
     "text": [
      "C:\\Users\\ingjo\\AppData\\Local\\Temp\\ipykernel_13436\\396016253.py:3: MatplotlibDeprecationWarning: Auto-removal of overlapping axes is deprecated since 3.6 and will be removed two minor releases later; explicitly call ax.remove() as needed.\n",
      "  plt.subplot(1, 2, 1)\n"
     ]
    },
    {
     "data": {
      "image/png": "[encoded data removed]",
      "text/plain": [
       "<Figure size 2000x600 with 2 Axes>"
      ]
     },
     "metadata": {},
     "output_type": "display_data"
    }
   ],
   "source": [
    "# -- Gráfica del MAE(Mean Absolute Error) con los datos de Entrenamiento\n",
    "plt.subplots(figsize = (20, 6))\n",
    "plt.subplot(1, 2, 1)\n",
    "plt.title('MAE vs K-Vecinos (Train)')\n",
    "sns.lineplot(x=\"K-Vecinos\", y=\"MAE\", hue=\"Métrica\", data=df_results[df_results['Train/Test']=='Train'])\n",
    "\n",
    "# -- Gráfica del MAE(Mean Absolute Error) con los datos de Test\n",
    "plt.subplot(1, 2, 2)\n",
    "plt.title('MAE vs K-Vecinos (Test)')\n",
    "sns.lineplot(x=\"K-Vecinos\", y=\"MAE\", hue=\"Métrica\", data=df_results[df_results['Train/Test']=='Test'])\n",
    "\n",
    "plt.show()"
   ]
  },
  {
   "cell_type": "markdown",
   "metadata": {},
   "source": [
    "**Entrenar el modelo KNN**"
   ]
  },
  {
   "cell_type": "code",
   "execution_count": null,
   "metadata": {},
   "outputs": [],
   "source": [
    "knn = NearestNeighbors(n_neighbors=5, metric='cosine')\n",
    "knn.fit(rating_normalized_train_matrix)"
   ]
  },
  {
   "cell_type": "markdown",
   "metadata": {},
   "source": [
    "**Encontrar los K-Neighbors**"
   ]
  },
  {
   "cell_type": "code",
   "execution_count": null,
   "metadata": {},
   "outputs": [],
   "source": [
    "# Encuentra los K-Vecinos de un user_id determinado\n",
    "target_user_index = 0\n",
    "distances, indices = knn.kneighbors(rating_normalized_train_matrix[target_user_index].reshape(1, -1), n_neighbors=5)\n",
    "data = pd.DataFrame({'distances':distances[0], 'indices':indices[0]})\n",
    "data"
   ]
  },
  {
   "cell_type": "markdown",
   "metadata": {},
   "source": [
    "**Cálculo de Recomendaciones**"
   ]
  },
  {
   "cell_type": "code",
   "execution_count": 71,
   "metadata": {},
   "outputs": [],
   "source": [
    "def recomendacion(user_index:int, n_recommendations:int) -> list:\n",
    "    \"\"\"\n",
    "    Devuelve una lista de N identificadores respecto a las películas recomendadas al usuario identificado por un ID.\n",
    "    \"\"\"\n",
    "    distances, indices = knn.kneighbors(train_ratings[user_index].reshape(1, -1), n_neighbors=n_recommendations)\n",
    "    \n",
    "    recommended_users = []\n",
    "    for i in range(1, len(distances.flatten())):\n",
    "        recommended_users.append(indices.flatten()[i])\n",
    "    \n",
    "    return recommended_users"
   ]
  },
  {
   "cell_type": "code",
   "execution_count": null,
   "metadata": {},
   "outputs": [],
   "source": [
    "recomendaciones = recomendacion(user_index=0, n_recommendations=5)\n",
    "print(recomendaciones)"
   ]
  }
 ],
 "metadata": {
  "kernelspec": {
   "display_name": "base",
   "language": "python",
   "name": "python3"
  },
  "language_info": {
   "codemirror_mode": {
    "name": "ipython",
    "version": 3
   },
   "file_extension": ".py",
   "mimetype": "text/x-python",
   "name": "python",
   "nbconvert_exporter": "python",
   "pygments_lexer": "ipython3",
   "version": "3.11.5"
  }
 },
 "nbformat": 4,
 "nbformat_minor": 2
}
