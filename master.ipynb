{
 "cells": [
  {
   "cell_type": "markdown",
   "metadata": {},
   "source": [
    "Sistema de Recomendación con KNN -> MovieLens"
   ]
  },
  {
   "cell_type": "markdown",
   "metadata": {},
   "source": [
    "**PAQUETES REQUERIDOS**"
   ]
  },
  {
   "cell_type": "code",
   "execution_count": null,
   "metadata": {},
   "outputs": [],
   "source": [
    "import pip\n",
    "pip.main(['install', 'tqdm'])"
   ]
  },
  {
   "cell_type": "code",
   "execution_count": 107,
   "metadata": {},
   "outputs": [],
   "source": [
    "import math\n",
    "import numpy as np\n",
    "import pandas as pd\n",
    "import seaborn as sns\n",
    "import matplotlib.pyplot as plt\n",
    "from sklearn.neighbors import NearestNeighbors\n",
    "from tqdm.notebook import tqdm"
   ]
  },
  {
   "cell_type": "markdown",
   "metadata": {},
   "source": [
    "**Implementación de Funciones de Similaridad**"
   ]
  },
  {
   "cell_type": "code",
   "execution_count": 108,
   "metadata": {},
   "outputs": [],
   "source": [
    "def msd_similarity(u:np.array, v:np.array, max_rating:int, min_rating:int) -> float:\n",
    "    \"\"\"\n",
    "    Calcula la similitud MSD (Diferencias Cuadráticas Medias) entre dos vectores.\n",
    "    \n",
    "    Parameters:\n",
    "        u: Primer vector (usuario o ítem).\n",
    "        v: Segundo vector (usuario o ítem).\n",
    "    \n",
    "    Returns:\n",
    "        float: La similitud MSD entre u y v o None si no se puede calcular.\n",
    "\n",
    "    \"\"\"\n",
    "    sum_r = 0 \n",
    "    count = 0\n",
    "    \n",
    "    for i in range(len(u)):\n",
    "        if u[i] != None and v[i] != None:\n",
    "            count += 1\n",
    "            sum_r += math.pow((u[i] - v[i])/(max_rating - min_rating), 2)\n",
    "            \n",
    "    if count > 0:\n",
    "        sim = 1-(sum_r/float(count))\n",
    "        return sim\n",
    "    else:\n",
    "        return None\n",
    "\n",
    "def cosine_similarity(u:np.array, v:np.array, max_rating:int, min_rating:int) -> float:\n",
    "    \"\"\"\n",
    "    Calcula la similitud del coseno entre dos vectores.\n",
    "    \n",
    "    Cosine_Similarity = u ⋅ v / |u||v|\n",
    "    \n",
    "    Parameters:\n",
    "        u: Primer vector.\n",
    "        v: Segundo vector.\n",
    "    \n",
    "    Returns:\n",
    "        float: La similitud del coseno o None si no se puede calcular.\n",
    "\n",
    "    \"\"\"\n",
    "    numerador = 0\n",
    "    denominador_u = 0\n",
    "    denominador_v = 0\n",
    "    \n",
    "    count = 0\n",
    "    \n",
    "    for i in range(len(u)):\n",
    "        if u[i] != None and v[i] != None:\n",
    "            numerador += u[i] * v[i]\n",
    "            denominador_u += math.pow(u[i], 2)\n",
    "            denominador_v += math.pow(v[i], 2)\n",
    "            count += 1\n",
    "    if count > 0 and denominador_u != 0 and denominador_v != 0:\n",
    "        cos = numerador / (math.sqrt(denominador_u) * math.sqrt(denominador_v))\n",
    "        return cos\n",
    "    else:\n",
    "        return None\n",
    "    \n",
    "def correlation_similarity(u:np.array, v:np.array, max_rating:int, min_rating:int) -> float:\n",
    "    \n",
    "    \"\"\"\n",
    "    Calcula la correlación de Pearson entre dos vectores.\n",
    "    \n",
    "    Correlation_Similarity = cov(u, v) / (σ_u * σ_v)\n",
    "    \n",
    "    Parameters:\n",
    "        u: Primer vector.\n",
    "        v: Segundo vector.\n",
    "    \n",
    "    Returns:\n",
    "        float: La correlación de Pearson o None si no se puede calcular.\n",
    "    \"\"\"\n",
    "\n",
    "    # -- Convertir listas a numpy arrays, reemplazando None por 0\n",
    "    u = np.array(u, dtype=float)\n",
    "    v = np.array(v, dtype=float)\n",
    "\n",
    "    # -- Reemplazar None (o NaN) por 0\n",
    "    u[np.isnan(u)] = 0\n",
    "    v[np.isnan(v)] = 0\n",
    "\n",
    "    # -- Filtrar los índices donde ambos vectores tienen valores no cero\n",
    "    mask = (u != 0) & (v != 0)\n",
    "    \n",
    "    if np.sum(mask) == 0:\n",
    "        return None  # No hay valores en común para calcular la correlación\n",
    "\n",
    "    u_filtered = u[mask]\n",
    "    v_filtered = v[mask]\n",
    "\n",
    "    # -- Calcular la media de los vectores\n",
    "    u_mean = np.mean(u_filtered)\n",
    "    v_mean = np.mean(v_filtered)\n",
    "\n",
    "    # -- Calcular la covarianza\n",
    "    covariance = np.sum((u_filtered - u_mean) * (v_filtered - v_mean))\n",
    "\n",
    "    # -- Calcular las desviaciones estándar\n",
    "    std_u = np.std(u_filtered, ddof=0)\n",
    "    std_v = np.std(v_filtered, ddof=0)\n",
    "\n",
    "    # Si alguna desvicacion estandar es 0 retornamos None\n",
    "    if std_u > 0 and std_v > 0:\n",
    "        return covariance / (std_u * std_v)\n",
    "    else:\n",
    "        return None\n",
    "    \n",
    "def jmsd_similarity(u:np.array, v:np.array, max_rating:int, min_rating:int) -> float:\n",
    "    \"\"\"\n",
    "    Calcula la similitud de Jensen-Shannon entre dos vectores.\n",
    "    \n",
    "    La similitud de Jensen-Shannon se define como:\n",
    "    JMSD(u, v) = 1 - D_JS(u, v)\n",
    "    \n",
    "    Donde D_JS(u, v) es la distancia de Jensen-Shannon entre u y v.\n",
    "\n",
    "    Parameters:\n",
    "        u: Primer vector.\n",
    "        v: Segundo vector.\n",
    "    \n",
    "    Returns:\n",
    "        float: La similitud de Jensen-Shannon o None si no se puede calcular.\n",
    "    \"\"\"\n",
    "\n",
    "    # Convertir listas a numpy arrays\n",
    "    u = np.array(u, dtype=float)\n",
    "    v = np.array(v, dtype=float)\n",
    "\n",
    "    # Reemplazar None (o NaN) por 0\n",
    "    u[np.isnan(u)] = 0\n",
    "    v[np.isnan(v)] = 0\n",
    "\n",
    "    # Normalizar los vectores para que sumen 1 (convertir a distribuciones de probabilidad)\n",
    "    u_sum = np.sum(u)\n",
    "    v_sum = np.sum(v)\n",
    "\n",
    "    if u_sum == 0 or v_sum == 0:\n",
    "        return None  # No se puede calcular la similitud si uno de los vectores es cero\n",
    "\n",
    "    # -- Distribución de u\n",
    "    p = u / u_sum\n",
    "    # -- Distribución de v\n",
    "    q = v / v_sum\n",
    "\n",
    "    # Calcular la mezcla de las dos distribuciones\n",
    "    m = 0.5 * (p + q)\n",
    "\n",
    "    # Calcular la divergencia de Kullback-Leibler\n",
    "    def kl_divergence(p, q):\n",
    "        return np.sum(np.where(p != 0, p * np.log(p / q), 0))\n",
    "\n",
    "    # Calcular la distancia de Jensen-Shannon\n",
    "    d_js = 0.5 * kl_divergence(p, m) + 0.5 * kl_divergence(q, m)\n",
    "\n",
    "    # Calcular la similitud de Jensen-Shannon\n",
    "    similarity = 1 - d_js\n",
    "\n",
    "    return similarity"
   ]
  },
  {
   "cell_type": "markdown",
   "metadata": {},
   "source": [
    "**Cálculo de similaridades**"
   ]
  },
  {
   "cell_type": "code",
   "execution_count": 109,
   "metadata": {},
   "outputs": [],
   "source": [
    "def calculate_similarities(ratings_matrix:np.array, similarity_metric:object, num_users:int, max_rating:int, min_rating:int) -> list:\n",
    "    \"\"\"\n",
    "    Cálculo de similaridades\n",
    "    \"\"\"\n",
    "\n",
    "    # Creamos una matriz con valores de similaridad a -1\n",
    "    similarities = [[float('-inf') for _ in range(num_users)] for _ in range(num_users)]\n",
    "    \n",
    "    # Recorremos la matriz por usuario\n",
    "    for i, u in enumerate(tqdm(ratings_matrix, leave=False)):\n",
    "        for j, v in enumerate(ratings_matrix):\n",
    "            if j != i: # No calculamos la similaridad para un mismo usuario\n",
    "                similarities[i][j] = similarity_metric(u, v, max_rating=max_rating, min_rating=min_rating)\n",
    "        \n",
    "    return similarities\n",
    "\n",
    "def rating_average(ratings) -> float:\n",
    "    \n",
    "    acc = 0\n",
    "    count = 0\n",
    "    for id_item in range(len(ratings)):\n",
    "        if ratings[id_item] != None:\n",
    "            acc += ratings[id_item]\n",
    "            count += 1\n",
    "    return acc / count\n"
   ]
  },
  {
   "cell_type": "markdown",
   "metadata": {},
   "source": [
    "**Cálculo de K-Vecinos**"
   ]
  },
  {
   "cell_type": "code",
   "execution_count": 110,
   "metadata": {},
   "outputs": [],
   "source": [
    "def calculate_neighbors(similarities_matrix, k_neighbors, num_users):\n",
    "    \n",
    "    neighbors = [None for _ in range(num_users)]\n",
    "    \n",
    "    for index, similarities in enumerate(tqdm(similarities_matrix, leave=False)):\n",
    "        i_neighbors = [i[0] for i in sorted(enumerate(similarities), \n",
    "                                            key=lambda x:float('-inf') if x[1] is None else x[1], \n",
    "                                            reverse=True)]\n",
    "        neighbors[index] = i_neighbors[0:k_neighbors]\n",
    "\n",
    "    return neighbors"
   ]
  },
  {
   "cell_type": "markdown",
   "metadata": {},
   "source": [
    "**Cálculo de Predicciones**"
   ]
  },
  {
   "cell_type": "code",
   "execution_count": 111,
   "metadata": {},
   "outputs": [],
   "source": [
    "def get_mae(ratings_matrix:np.array, predictions_matrix:np.array):\n",
    "    \"\"\"\n",
    "    Calcula el Error Medio Absoluto (MAE) entre las calificaciones reales y las predicciones.\n",
    "    \n",
    "    Parameters:\n",
    "        ratings_matrix : Matriz de calificaciones reales de los usuarios.\n",
    "        predictions_matrix : Matriz de predicciones de calificaciones.\n",
    "    \n",
    "    Returns:\n",
    "        float: El MAE promedio de todos los usuarios.\n",
    "    \"\"\"\n",
    "    mae_users = []\n",
    "\n",
    "    for user_ratings, user_predictions in zip(ratings_matrix, predictions_matrix):\n",
    "        abs_errors = []\n",
    "        \n",
    "        for real, predicted in zip(user_ratings, user_predictions):\n",
    "            if real is not None and not np.isnan(real):\n",
    "                abs_errors.append(abs(real - predicted))\n",
    "\n",
    "        if abs_errors:\n",
    "            mae_users.append(np.mean(abs_errors))\n",
    "        else:\n",
    "            mae_users.append(None)\n",
    "\n",
    "    # Convertir la lista a numpy array y calcular el MAE ignorando None/NaN\n",
    "    return np.nanmean(np.array(mae_users, dtype=np.float64), axis=0)\n",
    "\n",
    "def calculate_deviation_from_mean_prediction(ratings_matrix:np.array, neighbors:list, num_items:int, num_users:int):\n",
    "    \n",
    "    # Creamos una matriz para el cálculo de predicciones\n",
    "    predictions = [[None for _ in range(num_items)] for _ in range(num_users)]\n",
    "    \n",
    "    # Calculamos la media de los votos de los usuarios\n",
    "    avg_user_ratings = [rating_average(user) for user in ratings_matrix]\n",
    "    \n",
    "    # Recorremos la matriz de votos\n",
    "    for i, u in enumerate(tqdm(ratings_matrix, leave=False)):\n",
    "        for j, v in enumerate(ratings_matrix[0]):\n",
    "            numerador = 0 \n",
    "            denominador = 0\n",
    "            for neighbor in neighbors[i]:\n",
    "                if ratings_matrix[neighbor][j] != None:\n",
    "                    numerador += ratings_matrix[neighbor][j] - avg_user_ratings[neighbor]\n",
    "                    denominador += 1\n",
    "                    \n",
    "            predictions[i][j] = (avg_user_ratings[i] if denominador == 0 \n",
    "                                 else avg_user_ratings[i] + (numerador/denominador))\n",
    "            \n",
    "            # Ajustamos los votos inferiores a 1 y superiores a 5\n",
    "            if predictions[i][j] < 1:\n",
    "                predictions[i][j] = 1\n",
    "            if predictions[i][j] > 5:\n",
    "                predictions[i][j] = 5\n",
    "            \n",
    "    return predictions"
   ]
  },
  {
   "cell_type": "markdown",
   "metadata": {},
   "source": [
    "**ANALISIS EXPLORATORIO (EDA)**\n",
    "\n",
    "Primero hacemos una exploración descriptiva de nuestros datos."
   ]
  },
  {
   "cell_type": "markdown",
   "metadata": {},
   "source": [
    "**CARGA DE DATOS**"
   ]
  },
  {
   "cell_type": "code",
   "execution_count": 112,
   "metadata": {},
   "outputs": [],
   "source": [
    "def read_ratings_matrix(file:str, num_items:int, num_users:int) -> list:\n",
    "    \"\"\"\n",
    "    Data la ruta donde se encuentra un fichero con la estructura [ID_USER::ID_MOVIE::RATING]\n",
    "    crea una matriz de interacción usuario-artículo. \n",
    "    Esta matriz representa las valoraciones que los usuarios han dado a los artículos,\n",
    "    donde las filas representan a los usuarios y las columnas a los artículos.\n",
    "    \n",
    "    Un valor de 0 indica que el usuario no ha valorado el artículo.\n",
    "    \"\"\"\n",
    "\n",
    "    # -- Creamos una lista vacia de NUM_ITEMS elementos por cada usuario \n",
    "    RATINGS = [[None for _ in range(num_items)] for _ in range(num_users)] \n",
    "\n",
    "    # -- Abre el archivo indicado y lee cada línea separando el contenido de estas por el caracter ::\n",
    "    # -- que hace referencia a la estructura ID_USER::ID_MOVIE::RATING\n",
    "    fx = open(file, 'r')\n",
    "    while True:\n",
    "        line = fx.readline()\n",
    "        if not line:\n",
    "            break\n",
    "        else:\n",
    "            l = line.strip()\n",
    "            l = l.split('::')\n",
    "            user_id, movie_id, rating = l\n",
    "\n",
    "            # -- Completar el espacio correspondiente a esta línea en la lista de ratings\n",
    "            RATINGS[int(user_id)][int(movie_id)] = int(rating)\n",
    "\n",
    "    # -- Convierte los valores nulos en 0(cero)\n",
    "    for index in range(len(RATINGS)):\n",
    "        data = RATINGS[index]\n",
    "        RATINGS[index] = [0 if x is None else x for x in data]\n",
    "\n",
    "    return RATINGS"
   ]
  },
  {
   "cell_type": "code",
   "execution_count": 113,
   "metadata": {},
   "outputs": [],
   "source": [
    "# Número de usuarios e items\n",
    "NUM_USERS = 943\n",
    "NUM_ITEMS = 1682\n",
    "\n",
    "# Notas máximas y mínimas dadas en la matriz de votos\n",
    "MIN_RATING = 1\n",
    "MAX_RATING = 5\n",
    "\n",
    "# Ruta del los datasets de entrenamiento y test\n",
    "TRAIN_RATINGS_FILE = 'movielens_100k_training.txt'\n",
    "TEST_RATINGS_FILE = 'movielens_100k_test.txt'\n",
    "\n",
    "# Lectura de los Datasets de Entrenamiento y Test\n",
    "train_ratings = np.array(read_ratings_matrix(file=TRAIN_RATINGS_FILE, num_items=NUM_ITEMS, num_users=NUM_USERS))\n",
    "test_ratings = np.array(read_ratings_matrix(file=TEST_RATINGS_FILE, num_items=NUM_ITEMS, num_users=NUM_USERS))"
   ]
  },
  {
   "cell_type": "markdown",
   "metadata": {},
   "source": [
    "**Normalizar la matriz**"
   ]
  },
  {
   "cell_type": "code",
   "execution_count": 114,
   "metadata": {},
   "outputs": [],
   "source": [
    "rating_normalized_train_matrix = train_ratings\n",
    "#mean_user_rating_train = np.mean(train_ratings, axis=1).reshape(-1, 1)\n",
    "#rating_normalized_train_matrix = train_ratings - mean_user_rating_train\n",
    "\n",
    "rating_normalized_test_matrix = test_ratings\n",
    "#mean_user_rating_test = np.mean(test_ratings, axis=1).reshape(-1, 1)\n",
    "#rating_normalized_test_matrix = test_ratings - mean_user_rating_test "
   ]
  },
  {
   "cell_type": "code",
   "execution_count": null,
   "metadata": {},
   "outputs": [
    {
     "name": "stdout",
     "output_type": "stream",
     "text": [
      "Cálculo de similaridad MSD\n"
     ]
    },
    {
     "data": {
      "application/vnd.jupyter.widget-view+json": {
       "model_id": "ea9ef302e90942b0b512bab33ee5e953",
       "version_major": 2,
       "version_minor": 0
      },
      "text/plain": [
       "  0%|          | 0/943 [00:00<?, ?it/s]"
      ]
     },
     "metadata": {},
     "output_type": "display_data"
    },
    {
     "name": "stdout",
     "output_type": "stream",
     "text": [
      "25-Vecinos\n"
     ]
    },
    {
     "data": {
      "application/vnd.jupyter.widget-view+json": {
       "model_id": "29b8fc9851c940549a70a92c74bb1c02",
       "version_major": 2,
       "version_minor": 0
      },
      "text/plain": [
       "  0%|          | 0/943 [00:00<?, ?it/s]"
      ]
     },
     "metadata": {},
     "output_type": "display_data"
    },
    {
     "data": {
      "application/vnd.jupyter.widget-view+json": {
       "model_id": "e75945ed4b854d0bbb1d02fd6be5ed27",
       "version_major": 2,
       "version_minor": 0
      },
      "text/plain": [
       "  0%|          | 0/943 [00:00<?, ?it/s]"
      ]
     },
     "metadata": {},
     "output_type": "display_data"
    },
    {
     "name": "stdout",
     "output_type": "stream",
     "text": [
      "50-Vecinos\n"
     ]
    },
    {
     "data": {
      "application/vnd.jupyter.widget-view+json": {
       "model_id": "7b27ade4188a46db949142255a287b14",
       "version_major": 2,
       "version_minor": 0
      },
      "text/plain": [
       "  0%|          | 0/943 [00:00<?, ?it/s]"
      ]
     },
     "metadata": {},
     "output_type": "display_data"
    },
    {
     "data": {
      "application/vnd.jupyter.widget-view+json": {
       "model_id": "022b648a39084f55bb1274ed0bcdf3d6",
       "version_major": 2,
       "version_minor": 0
      },
      "text/plain": [
       "  0%|          | 0/943 [00:00<?, ?it/s]"
      ]
     },
     "metadata": {},
     "output_type": "display_data"
    },
    {
     "name": "stdout",
     "output_type": "stream",
     "text": [
      "75-Vecinos\n"
     ]
    },
    {
     "data": {
      "application/vnd.jupyter.widget-view+json": {
       "model_id": "d827bd58adf54c33ab7f4c17206ffefc",
       "version_major": 2,
       "version_minor": 0
      },
      "text/plain": [
       "  0%|          | 0/943 [00:00<?, ?it/s]"
      ]
     },
     "metadata": {},
     "output_type": "display_data"
    },
    {
     "data": {
      "application/vnd.jupyter.widget-view+json": {
       "model_id": "af360bd4b89b4b779fd32ca1071e81a3",
       "version_major": 2,
       "version_minor": 0
      },
      "text/plain": [
       "  0%|          | 0/943 [00:00<?, ?it/s]"
      ]
     },
     "metadata": {},
     "output_type": "display_data"
    },
    {
     "name": "stdout",
     "output_type": "stream",
     "text": [
      "100-Vecinos\n"
     ]
    },
    {
     "data": {
      "application/vnd.jupyter.widget-view+json": {
       "model_id": "3837081dd2404fad9060d1d6c9c19231",
       "version_major": 2,
       "version_minor": 0
      },
      "text/plain": [
       "  0%|          | 0/943 [00:00<?, ?it/s]"
      ]
     },
     "metadata": {},
     "output_type": "display_data"
    },
    {
     "data": {
      "application/vnd.jupyter.widget-view+json": {
       "model_id": "ccd2ef706b004bd7bf600faeb7666fa5",
       "version_major": 2,
       "version_minor": 0
      },
      "text/plain": [
       "  0%|          | 0/943 [00:00<?, ?it/s]"
      ]
     },
     "metadata": {},
     "output_type": "display_data"
    },
    {
     "name": "stdout",
     "output_type": "stream",
     "text": [
      "150-Vecinos\n"
     ]
    },
    {
     "data": {
      "application/vnd.jupyter.widget-view+json": {
       "model_id": "949dc86c37a248619bd86aefc9fbb691",
       "version_major": 2,
       "version_minor": 0
      },
      "text/plain": [
       "  0%|          | 0/943 [00:00<?, ?it/s]"
      ]
     },
     "metadata": {},
     "output_type": "display_data"
    },
    {
     "data": {
      "application/vnd.jupyter.widget-view+json": {
       "model_id": "9e3ac53d3b554ed2b591e9322e14649e",
       "version_major": 2,
       "version_minor": 0
      },
      "text/plain": [
       "  0%|          | 0/943 [00:00<?, ?it/s]"
      ]
     },
     "metadata": {},
     "output_type": "display_data"
    },
    {
     "name": "stdout",
     "output_type": "stream",
     "text": [
      "200-Vecinos\n"
     ]
    },
    {
     "data": {
      "application/vnd.jupyter.widget-view+json": {
       "model_id": "89d17ac4aebd4d7c85f26966c441948a",
       "version_major": 2,
       "version_minor": 0
      },
      "text/plain": [
       "  0%|          | 0/943 [00:00<?, ?it/s]"
      ]
     },
     "metadata": {},
     "output_type": "display_data"
    },
    {
     "data": {
      "application/vnd.jupyter.widget-view+json": {
       "model_id": "00414d3b9d6b444eaa28e5c20fcbc3d8",
       "version_major": 2,
       "version_minor": 0
      },
      "text/plain": [
       "  0%|          | 0/943 [00:00<?, ?it/s]"
      ]
     },
     "metadata": {},
     "output_type": "display_data"
    },
    {
     "name": "stdout",
     "output_type": "stream",
     "text": [
      "250-Vecinos\n"
     ]
    },
    {
     "data": {
      "application/vnd.jupyter.widget-view+json": {
       "model_id": "e18887b9deda4a9595e1667bb5e82aac",
       "version_major": 2,
       "version_minor": 0
      },
      "text/plain": [
       "  0%|          | 0/943 [00:00<?, ?it/s]"
      ]
     },
     "metadata": {},
     "output_type": "display_data"
    },
    {
     "data": {
      "application/vnd.jupyter.widget-view+json": {
       "model_id": "a94b0268709945e4bec3ce475410809e",
       "version_major": 2,
       "version_minor": 0
      },
      "text/plain": [
       "  0%|          | 0/943 [00:00<?, ?it/s]"
      ]
     },
     "metadata": {},
     "output_type": "display_data"
    },
    {
     "name": "stdout",
     "output_type": "stream",
     "text": [
      "300-Vecinos\n"
     ]
    },
    {
     "data": {
      "application/vnd.jupyter.widget-view+json": {
       "model_id": "64e60b0adc7d43c8a7b8727aca1152fb",
       "version_major": 2,
       "version_minor": 0
      },
      "text/plain": [
       "  0%|          | 0/943 [00:00<?, ?it/s]"
      ]
     },
     "metadata": {},
     "output_type": "display_data"
    },
    {
     "data": {
      "application/vnd.jupyter.widget-view+json": {
       "model_id": "3161203aaaf146a38c30a90ea19dd19d",
       "version_major": 2,
       "version_minor": 0
      },
      "text/plain": [
       "  0%|          | 0/943 [00:00<?, ?it/s]"
      ]
     },
     "metadata": {},
     "output_type": "display_data"
    },
    {
     "name": "stdout",
     "output_type": "stream",
     "text": [
      "500-Vecinos\n"
     ]
    },
    {
     "data": {
      "application/vnd.jupyter.widget-view+json": {
       "model_id": "032c0b37ca284c018cfad7b5c18ffdbe",
       "version_major": 2,
       "version_minor": 0
      },
      "text/plain": [
       "  0%|          | 0/943 [00:00<?, ?it/s]"
      ]
     },
     "metadata": {},
     "output_type": "display_data"
    },
    {
     "data": {
      "application/vnd.jupyter.widget-view+json": {
       "model_id": "e7878740c6d2454ebd610de330a5f680",
       "version_major": 2,
       "version_minor": 0
      },
      "text/plain": [
       "  0%|          | 0/943 [00:00<?, ?it/s]"
      ]
     },
     "metadata": {},
     "output_type": "display_data"
    },
    {
     "name": "stdout",
     "output_type": "stream",
     "text": [
      "Cálculo de similaridad COSENO\n"
     ]
    },
    {
     "data": {
      "application/vnd.jupyter.widget-view+json": {
       "model_id": "8978da67483840748e9074a9792087e8",
       "version_major": 2,
       "version_minor": 0
      },
      "text/plain": [
       "  0%|          | 0/943 [00:00<?, ?it/s]"
      ]
     },
     "metadata": {},
     "output_type": "display_data"
    }
   ],
   "source": [
    "# Metricas, K vecinos y predicciones a probar\n",
    "SIMILARITIES_METRICS = [('MSD', msd_similarity), \n",
    "                        ('COSENO', cosine_similarity),\n",
    "                        ('CORRELACION', correlation_similarity),\n",
    "                        ('JMSD', jmsd_similarity)]\n",
    "K_NEIGHBORS = [25, 50, 75, 100, 150, 200, 250, 300, 500]\n",
    "\n",
    "# Guardo en una lista los experimentos realizados, siendo un experimento una lista con 4 posiciones:\n",
    "#     1.- Métrica de similaridad\n",
    "#     2.- Número de vecinos\n",
    "#     3.- MAE\n",
    "#     4.- Entrenamiento o Test\n",
    "experiments = []\n",
    "\n",
    "for metric in SIMILARITIES_METRICS:\n",
    "    print(f'Cálculo de similaridad {metric[0]}')\n",
    "    similarities_matrix = calculate_similarities(ratings_matrix=rating_normalized_train_matrix , similarity_metric=metric[1], num_users=NUM_USERS, max_rating=MAX_RATING, min_rating=MIN_RATING)\n",
    "\n",
    "    for k in K_NEIGHBORS:\n",
    "        print(f'{k}-Vecinos')\n",
    "        neighbors_matrix = calculate_neighbors(similarities_matrix=similarities_matrix, k_neighbors=k, num_users=NUM_USERS)\n",
    "        \n",
    "        # Calculamos las predicciones\n",
    "        predictions = calculate_deviation_from_mean_prediction(ratings_matrix=rating_normalized_train_matrix , neighbors=neighbors_matrix, num_items=NUM_ITEMS, num_users=NUM_USERS)\n",
    "        \n",
    "        # Calculamos el MAE para entrenamiento y test\n",
    "        mae_train = get_mae(ratings_matrix=rating_normalized_train_matrix, predictions_matrix=predictions)\n",
    "        mae_test = get_mae(ratings_matrix=rating_normalized_test_matrix, predictions_matrix=predictions)\n",
    "        \n",
    "        # Añadimos los experimentos a la lista\n",
    "        experiments.append([metric[0], k, mae_train, \"Train\"])\n",
    "        experiments.append([metric[0], k, mae_test, \"Test\"])"
   ]
  },
  {
   "cell_type": "code",
   "execution_count": null,
   "metadata": {},
   "outputs": [],
   "source": [
    "# -- Pasamos los resultados de los experimentos a un DataFrame\n",
    "df_results = pd.DataFrame.from_records(experiments, columns=['Métrica', 'K-Vecinos', 'MAE', 'Train/Test'])"
   ]
  },
  {
   "cell_type": "code",
   "execution_count": null,
   "metadata": {},
   "outputs": [],
   "source": [
    "# -- Mostramos los resultados de los experimentos con los datos de entrenamiento\n",
    "pd.pivot_table(df_results[df_results['Train/Test']=='Train'], values=['MAE'], index=['K-Vecinos'], columns=['Métrica'])"
   ]
  },
  {
   "cell_type": "code",
   "execution_count": null,
   "metadata": {},
   "outputs": [],
   "source": [
    "# -- Muestra los resultados de los experimentos con los datos de test\n",
    "pd.pivot_table(df_results[df_results['Train/Test']=='Test'], values=['MAE'], index=['K-Vecinos'], columns=['Metrica'])"
   ]
  },
  {
   "cell_type": "markdown",
   "metadata": {},
   "source": [
    "**Graficar resultados**"
   ]
  },
  {
   "cell_type": "code",
   "execution_count": null,
   "metadata": {},
   "outputs": [],
   "source": [
    "# -- Gráfica del MAE(Mean Absolute Error) con los datos de Entrenamiento\n",
    "plt.subplots(figsize = (20, 6))\n",
    "plt.subplot(1, 2, 1)\n",
    "plt.title('MAE vs K-Vecinos (Train)')\n",
    "sns.lineplot(x=\"K-Vecinos\", y=\"MAE\", hue=\"Métrica\", data=df_results[df_results['Train/Test']=='Train'])\n",
    "\n",
    "# -- Gráfica del MAE(Mean Absolute Error) con los datos de Test\n",
    "plt.subplot(1, 2, 2)\n",
    "plt.title('MAE vs K-Vecinos (Test)')\n",
    "sns.lineplot(x=\"K-Vecinos\", y=\"MAE\", hue=\"Métrica\", data=df_results[df_results['Train/Test']=='Test'])\n",
    "\n",
    "plt.show()"
   ]
  },
  {
   "cell_type": "markdown",
   "metadata": {},
   "source": [
    "**Entrenar el modelo KNN**"
   ]
  },
  {
   "cell_type": "code",
   "execution_count": null,
   "metadata": {},
   "outputs": [],
   "source": [
    "knn = NearestNeighbors(n_neighbors=5, metric='cosine')\n",
    "knn.fit(rating_normalized_train_matrix)"
   ]
  },
  {
   "cell_type": "markdown",
   "metadata": {},
   "source": [
    "**Encontrar los K-Neighbors**"
   ]
  },
  {
   "cell_type": "code",
   "execution_count": null,
   "metadata": {},
   "outputs": [],
   "source": [
    "# Encuentra los K-Vecinos de un user_id determinado\n",
    "target_user_index = 0\n",
    "distances, indices = knn.kneighbors(rating_normalized_train_matrix[target_user_index].reshape(1, -1), n_neighbors=5)\n",
    "data = pd.DataFrame({'distances':distances[0], 'indices':indices[0]})\n",
    "data"
   ]
  },
  {
   "cell_type": "markdown",
   "metadata": {},
   "source": [
    "**Cálculo de Recomendaciones**"
   ]
  },
  {
   "cell_type": "code",
   "execution_count": 71,
   "metadata": {},
   "outputs": [],
   "source": [
    "def recomendacion(user_index:int, n_recommendations:int) -> list:\n",
    "    \"\"\"\n",
    "    Devuelve una lista de N identificadores respecto a las películas recomendadas al usuario identificado por un ID.\n",
    "    \"\"\"\n",
    "    distances, indices = knn.kneighbors(train_ratings[user_index].reshape(1, -1), n_neighbors=n_recommendations)\n",
    "    \n",
    "    recommended_users = []\n",
    "    for i in range(1, len(distances.flatten())):\n",
    "        recommended_users.append(indices.flatten()[i])\n",
    "    \n",
    "    return recommended_users"
   ]
  },
  {
   "cell_type": "code",
   "execution_count": null,
   "metadata": {},
   "outputs": [],
   "source": [
    "recomendaciones = recomendacion(user_index=0, n_recommendations=5)\n",
    "print(recomendaciones)"
   ]
  }
 ],
 "metadata": {
  "kernelspec": {
   "display_name": "base",
   "language": "python",
   "name": "python3"
  },
  "language_info": {
   "codemirror_mode": {
    "name": "ipython",
    "version": 3
   },
   "file_extension": ".py",
   "mimetype": "text/x-python",
   "name": "python",
   "nbconvert_exporter": "python",
   "pygments_lexer": "ipython3",
   "version": "3.11.5"
  }
 },
 "nbformat": 4,
 "nbformat_minor": 2
}
